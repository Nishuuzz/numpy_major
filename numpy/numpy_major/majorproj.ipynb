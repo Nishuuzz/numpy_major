{
  "cells": [
    {
      "cell_type": "markdown",
      "source": [
        "\n",
        "\n",
        "🧮 NumPy Mathematical Calculator\n",
        "\n",
        "🎯 Objective:\n",
        "\n",
        "To build a Python-based calculator using the NumPy library that performs:\n",
        "\t•\tBasic arithmetic operations\n",
        "\t•\tStatistical analysis\n",
        "\t•\tArray manipulation\n",
        "\n",
        "This project helps students understand how NumPy is used in real-world numerical computing tasks.\n",
        "\n",
        "⸻\n",
        "\n",
        "🌟 Key Features:\n",
        "\n",
        "1. Basic Arithmetic Operations\n",
        "\t•\tAddition, Subtraction, Multiplication, Division\n",
        "\t•\tPower operations between two arrays\n",
        "\n",
        "2. Statistical Operations\n",
        "\t•\tMean, Median, Standard Deviation, Variance\n",
        "\t•\tMinimum, Maximum, Sum, Product\n",
        "\t•\tShape, Size, and Data Type\n",
        "\n",
        "3. Array Manipulation\n",
        "\t•\tReshaping arrays (when possible)\n",
        "\t•\tSorting and Reverse Sorting\n",
        "\t•\tUnique value extraction\n",
        "\t•\tAccessing first and last elements\n",
        "\t•\tFiltering values greater than the mean"
      ],
      "metadata": {
        "id": "qUFpxpLZaea_"
      }
    },
    {
      "cell_type": "code",
      "source": [
        "import numpy as np\n",
        "\n",
        "print(\"NumPy Mathematical Calculator \")\n",
        "\n",
        "def create_array():\n",
        "\n",
        "    data = input(\"Enter numbers separated by space:\").split()\n",
        "    return np.array(data, dtype=float)\n",
        "\n",
        "def arithmetic_operations():\n",
        "    print(\"\\n--- Basic Arithmetic Operations ---\")\n",
        "    print(\"Enter first array:\")\n",
        "    a = create_array()\n",
        "    print(\"Enter second array:\")\n",
        "    b = create_array()\n",
        "\n",
        "    print(\"Addition:\", np.add(a, b))\n",
        "    print(\"Subtraction:\", np.subtract(a, b))\n",
        "    print(\"Multiplication:\", np.multiply(a, b))\n",
        "    print(\"Division:\", np.divide(a, b))\n",
        "    print(\"Power:\", np.power(a, b))\n",
        "\n",
        "def statistical_operations():\n",
        "    print(\"\\n--- Statistical Operations ---\")\n",
        "    arr = create_array()\n",
        "    print(\"Mean:\", np.mean(arr))\n",
        "    print(\"Median:\", np.median(arr))\n",
        "    print(\"Standard Deviation:\", np.std(arr))\n",
        "    print(\"Variance:\", np.var(arr))\n",
        "    print(\"Min:\", np.min(arr))\n",
        "    print(\"Max:\", np.max(arr))\n",
        "    print(\"Sum:\", np.sum(arr))\n",
        "    print(\"Product:\", np.prod(arr))\n",
        "    print(\"Shape:\", arr.shape)\n",
        "    print(\"Size:\", arr.size)\n",
        "    print(\"Data Type:\", arr.dtype)\n",
        "\n",
        "def array_manipulation():\n",
        "    print(\"\\n--- Array Manipulation ---\")\n",
        "    arr = create_array()\n",
        "    print(\"Sorted:\", np.sort(arr))\n",
        "    print(\"Reverse Sorted:\", np.sort(arr)[::-1])\n",
        "    print(\"Unique Values:\", np.unique(arr))\n",
        "    print(\"First Element:\", arr[0])\n",
        "    print(\"Last Element:\", arr[-1])\n",
        "\n",
        "    mean_val = np.mean(arr)\n",
        "    print(\"Values greater than mean:\", arr[arr > mean_val])\n",
        "\n",
        "    if arr.size % 2 == 0:\n",
        "        print(\"Reshaped Array (2 rows):\\n\", arr.reshape(2, -1))\n",
        "    else:\n",
        "        print(\"Cannot reshape evenly into 2 rows.\")\n",
        "\n",
        "while True:\n",
        "    print(\"\\nSelect an option:\")\n",
        "    print(\"1. Basic Arithmetic\")\n",
        "    print(\"2. Statistical Operations\")\n",
        "    print(\"3. Array Manipulation\")\n",
        "    print(\"4. Exit\")\n",
        "\n",
        "    choice = input(\"Enter your choice (1–4): \")\n",
        "\n",
        "\n",
        "    if choice == \"1\":\n",
        "        arithmetic_operations()\n",
        "    elif choice == \"2\":\n",
        "        statistical_operations()\n",
        "    elif choice == \"3\":\n",
        "        array_manipulation()\n",
        "    elif choice == \"4\":\n",
        "        print(\"Exiting Calculator\")\n",
        "        break\n",
        "    else:\n",
        "        print(\"Invalid choice. Please enter 1–4.\")"
      ],
      "metadata": {
        "colab": {
          "base_uri": "https://localhost:8080/"
        },
        "id": "fh6SFtRFZxtb",
        "outputId": "696915e2-35ab-451d-dc31-42a2508385c2"
      },
      "execution_count": null,
      "outputs": [
        {
          "metadata": {
            "tags": null
          },
          "name": "stdout",
          "output_type": "stream",
          "text": [
            "NumPy Mathematical Calculator \n",
            "\n",
            "Select an option:\n",
            "1. Basic Arithmetic\n",
            "2. Statistical Operations\n",
            "3. Array Manipulation\n",
            "4. Exit\n"
          ]
        }
      ]
    }
  ],
  "metadata": {
    "colab": {
      "provenance": []
    },
    "kernelspec": {
      "display_name": "Python 3",
      "name": "python3"
    },
    "language_info": {
      "name": "python"
    }
  },
  "nbformat": 4,
  "nbformat_minor": 0
}